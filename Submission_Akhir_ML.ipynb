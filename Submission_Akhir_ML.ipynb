{
  "cells": [
    {
      "cell_type": "markdown",
      "metadata": {
        "id": "view-in-github",
        "colab_type": "text"
      },
      "source": [
        "<a href=\"https://colab.research.google.com/github/candrajulius/Pengembangan_Machine_Learning/blob/final_submission_ml/Submission_Akhir_ML.ipynb\" target=\"_parent\"><img src=\"https://colab.research.google.com/assets/colab-badge.svg\" alt=\"Open In Colab\"/></a>"
      ]
    },
    {
      "cell_type": "markdown",
      "metadata": {
        "id": "voqJOjRAOk8j"
      },
      "source": [
        "# **Nama     : Candra Julius Sinaga**\n",
        "# **EXP      : 12.737**\n",
        "# **Lokasi   : Sumatera Utara**\n",
        "# **Bergabung: Sejak 03 Januari 2020**\n",
        "\n"
      ]
    },
    {
      "cell_type": "markdown",
      "metadata": {
        "id": "kxaJseiGPXmu"
      },
      "source": [
        "# **Submission Machine Learning**"
      ]
    },
    {
      "cell_type": "markdown",
      "metadata": {
        "id": "mcRbS_uOPcPp"
      },
      "source": [
        "## **Install Data From Kaggle**\n"
      ]
    },
    {
      "cell_type": "code",
      "execution_count": 1,
      "metadata": {
        "id": "xDkkPsQqPgPh"
      },
      "outputs": [],
      "source": [
        "!pip install -q kaggle"
      ]
    },
    {
      "cell_type": "markdown",
      "metadata": {
        "id": "36FvqHp1PjRp"
      },
      "source": [
        "## **Upload Kaggle JSON**"
      ]
    },
    {
      "cell_type": "code",
      "execution_count": 2,
      "metadata": {
        "id": "ZzU5TJsaPm4b",
        "colab": {
          "base_uri": "https://localhost:8080/",
          "height": 93
        },
        "outputId": "b7bfbaf5-32e4-4887-fd73-6e84131cdad5"
      },
      "outputs": [
        {
          "output_type": "display_data",
          "data": {
            "text/plain": [
              "<IPython.core.display.HTML object>"
            ],
            "text/html": [
              "\n",
              "     <input type=\"file\" id=\"files-0aff97b8-0d08-43d5-ad01-dd3d0c329d6c\" name=\"files[]\" multiple disabled\n",
              "        style=\"border:none\" />\n",
              "     <output id=\"result-0aff97b8-0d08-43d5-ad01-dd3d0c329d6c\">\n",
              "      Upload widget is only available when the cell has been executed in the\n",
              "      current browser session. Please rerun this cell to enable.\n",
              "      </output>\n",
              "      <script>// Copyright 2017 Google LLC\n",
              "//\n",
              "// Licensed under the Apache License, Version 2.0 (the \"License\");\n",
              "// you may not use this file except in compliance with the License.\n",
              "// You may obtain a copy of the License at\n",
              "//\n",
              "//      http://www.apache.org/licenses/LICENSE-2.0\n",
              "//\n",
              "// Unless required by applicable law or agreed to in writing, software\n",
              "// distributed under the License is distributed on an \"AS IS\" BASIS,\n",
              "// WITHOUT WARRANTIES OR CONDITIONS OF ANY KIND, either express or implied.\n",
              "// See the License for the specific language governing permissions and\n",
              "// limitations under the License.\n",
              "\n",
              "/**\n",
              " * @fileoverview Helpers for google.colab Python module.\n",
              " */\n",
              "(function(scope) {\n",
              "function span(text, styleAttributes = {}) {\n",
              "  const element = document.createElement('span');\n",
              "  element.textContent = text;\n",
              "  for (const key of Object.keys(styleAttributes)) {\n",
              "    element.style[key] = styleAttributes[key];\n",
              "  }\n",
              "  return element;\n",
              "}\n",
              "\n",
              "// Max number of bytes which will be uploaded at a time.\n",
              "const MAX_PAYLOAD_SIZE = 100 * 1024;\n",
              "\n",
              "function _uploadFiles(inputId, outputId) {\n",
              "  const steps = uploadFilesStep(inputId, outputId);\n",
              "  const outputElement = document.getElementById(outputId);\n",
              "  // Cache steps on the outputElement to make it available for the next call\n",
              "  // to uploadFilesContinue from Python.\n",
              "  outputElement.steps = steps;\n",
              "\n",
              "  return _uploadFilesContinue(outputId);\n",
              "}\n",
              "\n",
              "// This is roughly an async generator (not supported in the browser yet),\n",
              "// where there are multiple asynchronous steps and the Python side is going\n",
              "// to poll for completion of each step.\n",
              "// This uses a Promise to block the python side on completion of each step,\n",
              "// then passes the result of the previous step as the input to the next step.\n",
              "function _uploadFilesContinue(outputId) {\n",
              "  const outputElement = document.getElementById(outputId);\n",
              "  const steps = outputElement.steps;\n",
              "\n",
              "  const next = steps.next(outputElement.lastPromiseValue);\n",
              "  return Promise.resolve(next.value.promise).then((value) => {\n",
              "    // Cache the last promise value to make it available to the next\n",
              "    // step of the generator.\n",
              "    outputElement.lastPromiseValue = value;\n",
              "    return next.value.response;\n",
              "  });\n",
              "}\n",
              "\n",
              "/**\n",
              " * Generator function which is called between each async step of the upload\n",
              " * process.\n",
              " * @param {string} inputId Element ID of the input file picker element.\n",
              " * @param {string} outputId Element ID of the output display.\n",
              " * @return {!Iterable<!Object>} Iterable of next steps.\n",
              " */\n",
              "function* uploadFilesStep(inputId, outputId) {\n",
              "  const inputElement = document.getElementById(inputId);\n",
              "  inputElement.disabled = false;\n",
              "\n",
              "  const outputElement = document.getElementById(outputId);\n",
              "  outputElement.innerHTML = '';\n",
              "\n",
              "  const pickedPromise = new Promise((resolve) => {\n",
              "    inputElement.addEventListener('change', (e) => {\n",
              "      resolve(e.target.files);\n",
              "    });\n",
              "  });\n",
              "\n",
              "  const cancel = document.createElement('button');\n",
              "  inputElement.parentElement.appendChild(cancel);\n",
              "  cancel.textContent = 'Cancel upload';\n",
              "  const cancelPromise = new Promise((resolve) => {\n",
              "    cancel.onclick = () => {\n",
              "      resolve(null);\n",
              "    };\n",
              "  });\n",
              "\n",
              "  // Wait for the user to pick the files.\n",
              "  const files = yield {\n",
              "    promise: Promise.race([pickedPromise, cancelPromise]),\n",
              "    response: {\n",
              "      action: 'starting',\n",
              "    }\n",
              "  };\n",
              "\n",
              "  cancel.remove();\n",
              "\n",
              "  // Disable the input element since further picks are not allowed.\n",
              "  inputElement.disabled = true;\n",
              "\n",
              "  if (!files) {\n",
              "    return {\n",
              "      response: {\n",
              "        action: 'complete',\n",
              "      }\n",
              "    };\n",
              "  }\n",
              "\n",
              "  for (const file of files) {\n",
              "    const li = document.createElement('li');\n",
              "    li.append(span(file.name, {fontWeight: 'bold'}));\n",
              "    li.append(span(\n",
              "        `(${file.type || 'n/a'}) - ${file.size} bytes, ` +\n",
              "        `last modified: ${\n",
              "            file.lastModifiedDate ? file.lastModifiedDate.toLocaleDateString() :\n",
              "                                    'n/a'} - `));\n",
              "    const percent = span('0% done');\n",
              "    li.appendChild(percent);\n",
              "\n",
              "    outputElement.appendChild(li);\n",
              "\n",
              "    const fileDataPromise = new Promise((resolve) => {\n",
              "      const reader = new FileReader();\n",
              "      reader.onload = (e) => {\n",
              "        resolve(e.target.result);\n",
              "      };\n",
              "      reader.readAsArrayBuffer(file);\n",
              "    });\n",
              "    // Wait for the data to be ready.\n",
              "    let fileData = yield {\n",
              "      promise: fileDataPromise,\n",
              "      response: {\n",
              "        action: 'continue',\n",
              "      }\n",
              "    };\n",
              "\n",
              "    // Use a chunked sending to avoid message size limits. See b/62115660.\n",
              "    let position = 0;\n",
              "    do {\n",
              "      const length = Math.min(fileData.byteLength - position, MAX_PAYLOAD_SIZE);\n",
              "      const chunk = new Uint8Array(fileData, position, length);\n",
              "      position += length;\n",
              "\n",
              "      const base64 = btoa(String.fromCharCode.apply(null, chunk));\n",
              "      yield {\n",
              "        response: {\n",
              "          action: 'append',\n",
              "          file: file.name,\n",
              "          data: base64,\n",
              "        },\n",
              "      };\n",
              "\n",
              "      let percentDone = fileData.byteLength === 0 ?\n",
              "          100 :\n",
              "          Math.round((position / fileData.byteLength) * 100);\n",
              "      percent.textContent = `${percentDone}% done`;\n",
              "\n",
              "    } while (position < fileData.byteLength);\n",
              "  }\n",
              "\n",
              "  // All done.\n",
              "  yield {\n",
              "    response: {\n",
              "      action: 'complete',\n",
              "    }\n",
              "  };\n",
              "}\n",
              "\n",
              "scope.google = scope.google || {};\n",
              "scope.google.colab = scope.google.colab || {};\n",
              "scope.google.colab._files = {\n",
              "  _uploadFiles,\n",
              "  _uploadFilesContinue,\n",
              "};\n",
              "})(self);\n",
              "</script> "
            ]
          },
          "metadata": {}
        },
        {
          "output_type": "stream",
          "name": "stdout",
          "text": [
            "Saving kaggle.json to kaggle.json\n"
          ]
        },
        {
          "output_type": "execute_result",
          "data": {
            "text/plain": [
              "{'kaggle.json': b'{\"username\":\"candrajuliussinaga\",\"key\":\"f1b5e10673fde9255b882ba2af119a93\"}'}"
            ]
          },
          "metadata": {},
          "execution_count": 2
        }
      ],
      "source": [
        "from google.colab import files\n",
        "files.upload()"
      ]
    },
    {
      "cell_type": "markdown",
      "metadata": {
        "id": "SG4O-nxDPyuX"
      },
      "source": [
        "## **Make directory & Change Permission Kaggle**\n"
      ]
    },
    {
      "cell_type": "code",
      "execution_count": 3,
      "metadata": {
        "id": "WnMOlx1IP7Ih",
        "colab": {
          "base_uri": "https://localhost:8080/"
        },
        "outputId": "39f6405d-f9cf-482f-9e42-13d42dd90a4d"
      },
      "outputs": [
        {
          "output_type": "stream",
          "name": "stdout",
          "text": [
            "kaggle.json\n"
          ]
        }
      ],
      "source": [
        "!mkdir -p ~/.kaggle\n",
        "!cp kaggle.json ~/.kaggle/\n",
        "!chmod 600 ~/.kaggle/kaggle.json\n",
        "!ls ~/.kaggle"
      ]
    },
    {
      "cell_type": "markdown",
      "metadata": {
        "id": "OMM_IW5OP9wC"
      },
      "source": [
        "## **Download Dataset from kaggle**"
      ]
    },
    {
      "cell_type": "code",
      "execution_count": 4,
      "metadata": {
        "id": "zk5ouSBOQB8D",
        "colab": {
          "base_uri": "https://localhost:8080/"
        },
        "outputId": "18bcdc59-0c1a-4413-9c07-0e0b167a2c73"
      },
      "outputs": [
        {
          "output_type": "stream",
          "name": "stdout",
          "text": [
            "Downloading rice-disease.zip to /content\n",
            "100% 3.98G/3.99G [00:48<00:00, 86.2MB/s]\n",
            "100% 3.99G/3.99G [00:48<00:00, 87.7MB/s]\n"
          ]
        }
      ],
      "source": [
        "!kaggle datasets download -d nurnob101/rice-disease"
      ]
    },
    {
      "cell_type": "markdown",
      "metadata": {
        "id": "bX_S9_lQQQZ5"
      },
      "source": [
        "## **Extract Zip File**"
      ]
    },
    {
      "cell_type": "code",
      "execution_count": 5,
      "metadata": {
        "id": "NmkMkBYAQUyx",
        "colab": {
          "base_uri": "https://localhost:8080/"
        },
        "outputId": "9558b88c-d897-4a65-bb38-19db140eca48"
      },
      "outputs": [
        {
          "output_type": "stream",
          "name": "stdout",
          "text": [
            "Selesai\n"
          ]
        }
      ],
      "source": [
        "from zipfile import ZipFile\n",
        "file_name = \"/content/rice-disease.zip\"\n",
        "\n",
        "with ZipFile(file_name,'r') as zip:\n",
        "  zip.extractall()\n",
        "  print(\"Selesai\")"
      ]
    },
    {
      "cell_type": "markdown",
      "metadata": {
        "id": "k00PKtcrQapJ"
      },
      "source": [
        "## **Import Library for Your Need**"
      ]
    },
    {
      "cell_type": "code",
      "execution_count": 6,
      "metadata": {
        "id": "q6nN0QolQhy6"
      },
      "outputs": [],
      "source": [
        "import tensorflow as tf\n",
        "from tensorflow.keras.optimizers import RMSprop\n",
        "from tensorflow.keras.preprocessing.image import ImageDataGenerator\n",
        "from sklearn.model_selection import train_test_split\n",
        "import zipfile,os,shutil\n",
        "import matplotlib.pyplot as plt"
      ]
    },
    {
      "cell_type": "markdown",
      "metadata": {
        "id": "mCZONwLHQ4FC"
      },
      "source": [
        "## **Make Train and Validation dir**"
      ]
    },
    {
      "cell_type": "code",
      "execution_count": 7,
      "metadata": {
        "id": "EVGK0U0zS5i6"
      },
      "outputs": [],
      "source": [
        "base_dir = '/content/Data-image'\n",
        "train_dir = os.path.join(base_dir,'train')\n",
        "validation_dir = os.path.join(base_dir, 'val')\n",
        "\n",
        "Gudi_dir = os.path.join('/content/Data-image/Gudi_rotten')\n",
        "apex_dir = os.path.join('/content/Data-image/apex_blast')\n",
        "blast_dir = os.path.join('/content/Data-image/leaf_blast')\n",
        "burn_dir = os.path.join('/content/Data-image/leaf_burn')\n",
        "paddy_dir = os.path.join('/content/Data-image/neck_blast_paddy')"
      ]
    },
    {
      "cell_type": "markdown",
      "metadata": {
        "id": "u8gipqNOTZeA"
      },
      "source": [
        "## **Sum files**"
      ]
    },
    {
      "cell_type": "code",
      "execution_count": 8,
      "metadata": {
        "id": "kp5wWRHZTf-R",
        "colab": {
          "base_uri": "https://localhost:8080/"
        },
        "outputId": "41d6125c-5e24-4618-efd0-0f1e712e9836"
      },
      "outputs": [
        {
          "output_type": "stream",
          "name": "stdout",
          "text": [
            "total training gudi images  500\n",
            "total training apex images  500\n",
            "total training leaf Blast images  500\n",
            "total training leaf Burn images  500\n",
            "total training nect Blast Paddy images  500\n"
          ]
        }
      ],
      "source": [
        "print('total training gudi images ',len(os.listdir(Gudi_dir)))\n",
        "\n",
        "print('total training apex images ',len(os.listdir(apex_dir)))\n",
        "\n",
        "print('total training leaf Blast images ',len(os.listdir(blast_dir)))\n",
        "\n",
        "print('total training leaf Burn images ',len(os.listdir(burn_dir)))\n",
        "\n",
        "print('total training nect Blast Paddy images ',len(os.listdir(paddy_dir)))"
      ]
    },
    {
      "cell_type": "markdown",
      "metadata": {
        "id": "AHlIWfM4Trwb"
      },
      "source": [
        "## **Sum Max Image From Dataset**"
      ]
    },
    {
      "cell_type": "code",
      "execution_count": 9,
      "metadata": {
        "id": "zMwZfBVETx8y",
        "colab": {
          "base_uri": "https://localhost:8080/"
        },
        "outputId": "781c7910-5bae-4d90-95db-bd8914cc8e48"
      },
      "outputs": [
        {
          "output_type": "stream",
          "name": "stdout",
          "text": [
            "Total Files : 500\n",
            "Total Files : 1000\n",
            "Total Files : 1500\n",
            "Total Files : 2000\n",
            "Total Files : 2500\n"
          ]
        }
      ],
      "source": [
        "lable_data = {}\n",
        "files_total = 0\n",
        "for i in os.listdir(base_dir):\n",
        "  counting = len(os.listdir(os.path.join(base_dir,i)))\n",
        "  lable_data[i] = counting\n",
        "  files_total += counting\n",
        "  print(\"Total Files : \" + str(files_total))"
      ]
    },
    {
      "cell_type": "markdown",
      "metadata": {
        "id": "vR3gHeMpUnIC"
      },
      "source": [
        "## **Make a new directory Train and Val**"
      ]
    },
    {
      "cell_type": "code",
      "execution_count": 10,
      "metadata": {
        "id": "TMkBL4XVUOYH"
      },
      "outputs": [],
      "source": [
        "os.mkdir(train_dir)\n",
        "os.mkdir(validation_dir)"
      ]
    },
    {
      "cell_type": "code",
      "execution_count": 11,
      "metadata": {
        "id": "yInaxObuUtxA"
      },
      "outputs": [],
      "source": [
        "train_gudi = os.path.join(train_dir, 'gudi')\n",
        "train_apex = os.path.join(train_dir, 'apex')\n",
        "train_blast = os.path.join(train_dir, 'blast')\n",
        "train_burn = os.path.join(train_dir, 'burn')\n",
        "train_paddy = os.path.join(train_dir, 'paddy')\n",
        "\n",
        "val_gudi = os.path.join(validation_dir, 'gudi')\n",
        "val_apex = os.path.join(validation_dir, 'apex')\n",
        "val_blast = os.path.join(validation_dir, 'blast')\n",
        "val_burn = os.path.join(validation_dir, 'burn')\n",
        "val_paddy = os.path.join(validation_dir, 'paddy')"
      ]
    },
    {
      "cell_type": "code",
      "execution_count": 12,
      "metadata": {
        "id": "OQSAQb5_U4Op"
      },
      "outputs": [],
      "source": [
        "os.mkdir(train_gudi)\n",
        "os.mkdir(train_apex)\n",
        "os.mkdir(train_blast)\n",
        "os.mkdir(train_burn)\n",
        "os.mkdir(train_paddy)\n",
        "\n",
        "os.mkdir(val_gudi)\n",
        "os.mkdir(val_apex)\n",
        "os.mkdir(val_blast)\n",
        "os.mkdir(val_burn)\n",
        "os.mkdir(val_paddy)"
      ]
    },
    {
      "cell_type": "markdown",
      "metadata": {
        "id": "-uWvsxcoU6Wh"
      },
      "source": [
        "## **split each directory into train data and validation data**"
      ]
    },
    {
      "cell_type": "code",
      "execution_count": 13,
      "metadata": {
        "id": "MoUt94hAVCN5"
      },
      "outputs": [],
      "source": [
        "train_gudi_dir, val_gudi_dir = train_test_split(os.listdir(Gudi_dir), test_size = 0.2)\n",
        "train_apex_dir, val_apex_dir = train_test_split(os.listdir(apex_dir), test_size = 0.2)\n",
        "train_blast_dir, val_blast_dir = train_test_split(os.listdir(blast_dir), test_size = 0.2)\n",
        "train_burn_dir, val_burn_dir = train_test_split(os.listdir(burn_dir), test_size = 0.2)\n",
        "train_paddy_dir, val_paddy_dir = train_test_split(os.listdir(paddy_dir), test_size = 0.2)"
      ]
    },
    {
      "cell_type": "code",
      "execution_count": 14,
      "metadata": {
        "id": "x5igIi4cVwtN"
      },
      "outputs": [],
      "source": [
        "for file in train_gudi_dir:\n",
        "  shutil.copy(os.path.join(Gudi_dir, file), os.path.join(train_gudi, file))\n",
        "for file in train_apex_dir:\n",
        "  shutil.copy(os.path.join(apex_dir,file), os.path.join(train_apex,file))\n",
        "for file in train_blast_dir:\n",
        "  shutil.copy(os.path.join(blast_dir,file), os.path.join(train_blast,file))\n",
        "for file in train_burn_dir:\n",
        "  shutil.copy(os.path.join(burn_dir,file), os.path.join(train_burn,file))\n",
        "for file in train_paddy_dir:\n",
        "  shutil.copy(os.path.join(paddy_dir,file), os.path.join(train_paddy,file))\n",
        "\n",
        "\n",
        "for file in val_gudi_dir:\n",
        "  shutil.copy(os.path.join(Gudi_dir, file), os.path.join(val_gudi,file))\n",
        "for file in val_apex_dir:\n",
        "  shutil.copy(os.path.join(apex_dir,file), os.path.join(val_apex,file))\n",
        "for file in val_blast_dir:\n",
        "  shutil.copy(os.path.join(blast_dir,file), os.path.join(val_blast,file))\n",
        "for file in val_burn_dir:\n",
        "  shutil.copy(os.path.join(burn_dir,file), os.path.join(val_burn,file))\n",
        "for file in val_paddy_dir:\n",
        "  shutil.copy(os.path.join(paddy_dir,file), os.path.join(val_paddy,file))"
      ]
    },
    {
      "cell_type": "markdown",
      "metadata": {
        "id": "cE9zG8lPWG6s"
      },
      "source": [
        "## **Make for ImageDataGenerator()**"
      ]
    },
    {
      "cell_type": "code",
      "execution_count": 15,
      "metadata": {
        "id": "Dh3Jmt34Xaf5"
      },
      "outputs": [],
      "source": [
        "train_datagen = ImageDataGenerator(\n",
        "    rescale = 1./255,\n",
        "    rotation_range = 30,\n",
        "    horizontal_flip = True,\n",
        "    shear_range = 0.2,\n",
        "    fill_mode = 'nearest'\n",
        ")\n",
        "test_datagen = ImageDataGenerator(\n",
        "    rescale = 1./255,\n",
        ")"
      ]
    },
    {
      "cell_type": "code",
      "execution_count": 16,
      "metadata": {
        "id": "zDhyBRcxXtPp",
        "colab": {
          "base_uri": "https://localhost:8080/"
        },
        "outputId": "dfe1eb30-3ed2-4f97-adac-8a82bcc97b69"
      },
      "outputs": [
        {
          "output_type": "stream",
          "name": "stdout",
          "text": [
            "Found 2000 images belonging to 5 classes.\n",
            "Found 500 images belonging to 5 classes.\n"
          ]
        }
      ],
      "source": [
        "train_generator = train_datagen.flow_from_directory(\n",
        "    train_dir,\n",
        "    target_size=(150,150),\n",
        "    batch_size = 32,\n",
        "    class_mode = 'categorical'\n",
        ")\n",
        "\n",
        "validasi_generator = test_datagen.flow_from_directory(\n",
        "    validation_dir,\n",
        "    target_size=(150,150),\n",
        "    batch_size = 32,\n",
        "    class_mode = 'categorical'\n",
        ")"
      ]
    },
    {
      "cell_type": "markdown",
      "metadata": {
        "id": "MYEIVEMYXRvs"
      },
      "source": [
        "## **Arsitektur Conv2D Layers**"
      ]
    },
    {
      "cell_type": "code",
      "execution_count": 17,
      "metadata": {
        "id": "AzZ5cyXmYSQw"
      },
      "outputs": [],
      "source": [
        "model = tf.keras.models.Sequential([\n",
        "    tf.keras.layers.Conv2D(128, (3,3), activation='relu', input_shape=(150, 150, 3)),\n",
        "    tf.keras.layers.MaxPooling2D(2, 2),\n",
        "    tf.keras.layers.Dropout(0.2),\n",
        "    tf.keras.layers.Conv2D(128, (3,3), activation='relu'),\n",
        "    tf.keras.layers.MaxPooling2D(2,2),\n",
        "    tf.keras.layers.Dropout(0.2),\n",
        "    tf.keras.layers.Conv2D(64, (3,3), activation='relu'),\n",
        "    tf.keras.layers.MaxPooling2D(2,2),\n",
        "    tf.keras.layers.Dropout(0.2),\n",
        "    tf.keras.layers.Conv2D(64,(3,3), activation='relu'),\n",
        "    tf.keras.layers.MaxPooling2D(2,2),\n",
        "    tf.keras.layers.Dropout(0.2),\n",
        "  \n",
        "    tf.keras.layers.Flatten(),\n",
        "    tf.keras.layers.Dense(32, activation='relu'),\n",
        "    tf.keras.layers.Dense(5, activation='softmax')\n",
        "])"
      ]
    },
    {
      "cell_type": "markdown",
      "metadata": {
        "id": "_sbtexSSYfrU"
      },
      "source": [
        "## **See Model Summary CNN**"
      ]
    },
    {
      "cell_type": "code",
      "execution_count": 18,
      "metadata": {
        "id": "DFVmM0x7YkRq",
        "colab": {
          "base_uri": "https://localhost:8080/"
        },
        "outputId": "9c8ce34a-a3a3-4d3c-dab2-8049d88bc419"
      },
      "outputs": [
        {
          "output_type": "stream",
          "name": "stdout",
          "text": [
            "Model: \"sequential\"\n",
            "_________________________________________________________________\n",
            " Layer (type)                Output Shape              Param #   \n",
            "=================================================================\n",
            " conv2d (Conv2D)             (None, 148, 148, 128)     3584      \n",
            "                                                                 \n",
            " max_pooling2d (MaxPooling2D  (None, 74, 74, 128)      0         \n",
            " )                                                               \n",
            "                                                                 \n",
            " dropout (Dropout)           (None, 74, 74, 128)       0         \n",
            "                                                                 \n",
            " conv2d_1 (Conv2D)           (None, 72, 72, 128)       147584    \n",
            "                                                                 \n",
            " max_pooling2d_1 (MaxPooling  (None, 36, 36, 128)      0         \n",
            " 2D)                                                             \n",
            "                                                                 \n",
            " dropout_1 (Dropout)         (None, 36, 36, 128)       0         \n",
            "                                                                 \n",
            " conv2d_2 (Conv2D)           (None, 34, 34, 64)        73792     \n",
            "                                                                 \n",
            " max_pooling2d_2 (MaxPooling  (None, 17, 17, 64)       0         \n",
            " 2D)                                                             \n",
            "                                                                 \n",
            " dropout_2 (Dropout)         (None, 17, 17, 64)        0         \n",
            "                                                                 \n",
            " conv2d_3 (Conv2D)           (None, 15, 15, 64)        36928     \n",
            "                                                                 \n",
            " max_pooling2d_3 (MaxPooling  (None, 7, 7, 64)         0         \n",
            " 2D)                                                             \n",
            "                                                                 \n",
            " dropout_3 (Dropout)         (None, 7, 7, 64)          0         \n",
            "                                                                 \n",
            " flatten (Flatten)           (None, 3136)              0         \n",
            "                                                                 \n",
            " dense (Dense)               (None, 32)                100384    \n",
            "                                                                 \n",
            " dense_1 (Dense)             (None, 5)                 165       \n",
            "                                                                 \n",
            "=================================================================\n",
            "Total params: 362,437\n",
            "Trainable params: 362,437\n",
            "Non-trainable params: 0\n",
            "_________________________________________________________________\n"
          ]
        }
      ],
      "source": [
        "model.summary()"
      ]
    },
    {
      "cell_type": "code",
      "execution_count": 19,
      "metadata": {
        "id": "7pkp7gpYYoKh"
      },
      "outputs": [],
      "source": [
        "from PIL import Image\n",
        "for image_address in os.listdir(Gudi_dir):\n",
        "  try:\n",
        "    Image.open(os.path.join(Gudi_dir,image_address))\n",
        "  except:\n",
        "    print(\"Terjadi kesalahan pada system: \" + image_address)  "
      ]
    },
    {
      "cell_type": "code",
      "execution_count": 20,
      "metadata": {
        "id": "m3SLDcsw2rjM"
      },
      "outputs": [],
      "source": [
        "class myCallback(tf.keras.callbacks.Callback):\n",
        "  def on_epoch_end(self, epoch, logs={}):\n",
        "    if (logs.get('accuracy') > 0.92 and logs.get('val_accuracy') > 0.92):\n",
        "      print(\"Akurasi telah mencapai diatas 92%, Sudah selesai\")\n",
        "      self.model.stop_training = True\n",
        "\n",
        "callbacks = myCallback()\n"
      ]
    },
    {
      "cell_type": "markdown",
      "metadata": {
        "id": "wiEX97Fx3m8f"
      },
      "source": [
        "## **Compile Model**"
      ]
    },
    {
      "cell_type": "code",
      "execution_count": 21,
      "metadata": {
        "id": "rqII6vNc3rMa"
      },
      "outputs": [],
      "source": [
        "model.compile(loss='categorical_crossentropy',\n",
        "              optimizer=tf.optimizers.Adam(),\n",
        "              metrics=['accuracy'])"
      ]
    },
    {
      "cell_type": "markdown",
      "metadata": {
        "id": "9H8bK3-a4-OZ"
      },
      "source": [
        "## **Melatih Model**"
      ]
    },
    {
      "cell_type": "code",
      "execution_count": 22,
      "metadata": {
        "id": "xfVNz_KA5BTm",
        "colab": {
          "base_uri": "https://localhost:8080/"
        },
        "outputId": "9e352a9d-842d-4ad0-93d0-d0660c24c597"
      },
      "outputs": [
        {
          "output_type": "stream",
          "name": "stdout",
          "text": [
            "Epoch 1/20\n",
            "25/25 [==============================] - 151s 6s/step - loss: 1.5570 - accuracy: 0.3175 - val_loss: 1.3124 - val_accuracy: 0.4187\n",
            "Epoch 2/20\n",
            "25/25 [==============================] - 137s 6s/step - loss: 1.1202 - accuracy: 0.4796 - val_loss: 0.7143 - val_accuracy: 0.7188\n",
            "Epoch 3/20\n",
            "25/25 [==============================] - 138s 6s/step - loss: 0.9034 - accuracy: 0.5788 - val_loss: 0.9419 - val_accuracy: 0.6125\n",
            "Epoch 4/20\n",
            "25/25 [==============================] - 133s 5s/step - loss: 0.8019 - accuracy: 0.6413 - val_loss: 0.6524 - val_accuracy: 0.7063\n",
            "Epoch 5/20\n",
            "25/25 [==============================] - 131s 5s/step - loss: 0.7034 - accuracy: 0.6862 - val_loss: 0.8683 - val_accuracy: 0.6562\n",
            "Epoch 6/20\n",
            "25/25 [==============================] - 129s 5s/step - loss: 0.5534 - accuracy: 0.7755 - val_loss: 0.5376 - val_accuracy: 0.8125\n",
            "Epoch 7/20\n",
            "25/25 [==============================] - 129s 5s/step - loss: 0.4227 - accuracy: 0.8418 - val_loss: 0.3184 - val_accuracy: 0.8875\n",
            "Epoch 8/20\n",
            "25/25 [==============================] - 132s 5s/step - loss: 0.7594 - accuracy: 0.6825 - val_loss: 0.6900 - val_accuracy: 0.7188\n",
            "Epoch 9/20\n",
            "25/25 [==============================] - 129s 5s/step - loss: 0.5917 - accuracy: 0.7602 - val_loss: 0.8593 - val_accuracy: 0.6625\n",
            "Epoch 10/20\n",
            "25/25 [==============================] - 129s 5s/step - loss: 0.5692 - accuracy: 0.7742 - val_loss: 0.6657 - val_accuracy: 0.7500\n",
            "Epoch 11/20\n",
            "25/25 [==============================] - 127s 5s/step - loss: 0.4678 - accuracy: 0.8138 - val_loss: 0.7313 - val_accuracy: 0.7500\n",
            "Epoch 12/20\n",
            "25/25 [==============================] - 129s 5s/step - loss: 0.4329 - accuracy: 0.8388 - val_loss: 0.3668 - val_accuracy: 0.9125\n",
            "Epoch 13/20\n",
            "25/25 [==============================] - 129s 5s/step - loss: 0.4541 - accuracy: 0.8275 - val_loss: 0.4399 - val_accuracy: 0.8500\n",
            "Epoch 14/20\n",
            "25/25 [==============================] - 128s 5s/step - loss: 0.3057 - accuracy: 0.8975 - val_loss: 0.4335 - val_accuracy: 0.8500\n",
            "Epoch 15/20\n",
            "25/25 [==============================] - 127s 5s/step - loss: 0.2619 - accuracy: 0.8992 - val_loss: 0.3473 - val_accuracy: 0.8625\n",
            "Epoch 16/20\n",
            "25/25 [==============================] - ETA: 0s - loss: 0.2386 - accuracy: 0.9200Akurasi telah mencapai diatas 92%, Sudah selesai\n",
            "25/25 [==============================] - 128s 5s/step - loss: 0.2386 - accuracy: 0.9200 - val_loss: 0.1453 - val_accuracy: 0.9563\n"
          ]
        }
      ],
      "source": [
        "history = model.fit(\n",
        "    train_generator,\n",
        "    steps_per_epoch = 25,\n",
        "    epochs = 20,\n",
        "    validation_data = validasi_generator,\n",
        "    validation_steps = 5,\n",
        "    verbose = 1,\n",
        "    callbacks=[callbacks]\n",
        ")"
      ]
    },
    {
      "cell_type": "markdown",
      "metadata": {
        "id": "X-EEkGLag2la"
      },
      "source": [
        "## **Plot Akurasi And Loss Model**"
      ]
    },
    {
      "cell_type": "code",
      "execution_count": 23,
      "metadata": {
        "id": "8BG9v3LehLbP",
        "colab": {
          "base_uri": "https://localhost:8080/",
          "height": 295
        },
        "outputId": "38a8ae11-903a-455e-fdd9-4902b321e3e7"
      },
      "outputs": [
        {
          "output_type": "display_data",
          "data": {
            "text/plain": [
              "<Figure size 432x288 with 1 Axes>"
            ],
            "image/png": "[encoded data removed]"
          },
          "metadata": {
            "needs_background": "light"
          }
        }
      ],
      "source": [
        "plt.plot(history.history['accuracy'], label='training', color='blue')\n",
        "plt.plot(history.history['val_accuracy'],label='validation',color='red')\n",
        "plt.title('accuracy training and validation')\n",
        "plt.xlabel('epoch')\n",
        "plt.legend(loc='upper right')\n",
        "plt.show()"
      ]
    },
    {
      "cell_type": "code",
      "execution_count": 24,
      "metadata": {
        "id": "GbMo1-ZIhunx",
        "colab": {
          "base_uri": "https://localhost:8080/",
          "height": 295
        },
        "outputId": "e49961f7-94c3-47c2-cfc0-809a54bd520a"
      },
      "outputs": [
        {
          "output_type": "display_data",
          "data": {
            "text/plain": [
              "<Figure size 432x288 with 1 Axes>"
            ],
            "image/png": "[encoded data removed]"
          },
          "metadata": {
            "needs_background": "light"
          }
        }
      ],
      "source": [
        "plt.plot(history.history['loss'],label='training',color='blue')\n",
        "plt.plot(history.history['val_loss'],label='validation',color='green')\n",
        "plt.title('loss training & validation')\n",
        "plt.xlabel('epoch')\n",
        "plt.legend(loc='lower right')\n",
        "plt.show()"
      ]
    },
    {
      "cell_type": "markdown",
      "source": [
        "## **Convert Model To Model TFLite**"
      ],
      "metadata": {
        "id": "tWM-zZmEqHeg"
      }
    },
    {
      "cell_type": "code",
      "source": [
        "import pathlib\n",
        "export_dir = 'saved_model/'\n",
        "tf.saved_model.save(model,export_dir)"
      ],
      "metadata": {
        "id": "2ovXl8qNqL9t"
      },
      "execution_count": 25,
      "outputs": []
    },
    {
      "cell_type": "code",
      "source": [
        "converter = tf.lite.TFLiteConverter.from_saved_model(export_dir)\n",
        "tflite_model = converter.convert()\n",
        "tflite_model_file = pathlib.Path('Nasi_Dessess.tflite')\n",
        "tflite_model_file.write_bytes(tflite_model)"
      ],
      "metadata": {
        "colab": {
          "base_uri": "https://localhost:8080/"
        },
        "id": "QGxKm7prqbv9",
        "outputId": "fda27813-d780-4f92-8331-9624cbef036a"
      },
      "execution_count": 26,
      "outputs": [
        {
          "output_type": "execute_result",
          "data": {
            "text/plain": [
              "1454008"
            ]
          },
          "metadata": {},
          "execution_count": 26
        }
      ]
    }
  ],
  "metadata": {
    "accelerator": "GPU",
    "colab": {
      "provenance": [],
      "collapsed_sections": [],
      "authorship_tag": "ABX9TyOgnHjwkHIHn4Ft64JMQeYk",
      "include_colab_link": true
    },
    "kernelspec": {
      "display_name": "Python 3",
      "name": "python3"
    },
    "language_info": {
      "name": "python"
    }
  },
  "nbformat": 4,
  "nbformat_minor": 0
}